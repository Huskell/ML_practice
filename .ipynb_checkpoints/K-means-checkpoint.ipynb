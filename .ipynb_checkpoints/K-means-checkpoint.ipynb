{
 "cells": [
  {
   "cell_type": "code",
   "execution_count": 1,
   "metadata": {},
   "outputs": [],
   "source": [
    "import random"
   ]
  },
  {
   "cell_type": "code",
   "execution_count": 2,
   "metadata": {},
   "outputs": [],
   "source": [
    "def points_avg(points):\n",
    "    center = [0]*len(points[0])\n",
    "    \n",
    "    for point in points:\n",
    "        for j in range(len(center)):\n",
    "            center[j] += point[j]\n",
    "    \n",
    "    for i in range(len(center)):\n",
    "        center[i] = center[i]/len(points)\n",
    "    \n",
    "    return center"
   ]
  },
  {
   "cell_type": "code",
   "execution_count": 3,
   "metadata": {},
   "outputs": [],
   "source": [
    "def update_centers(assigments, data):\n",
    "    new_centers = []\n",
    "\n",
    "#   вместо этой конструкции можно использовать defaultdict из модуля collections\n",
    "    point_dict = {}\n",
    "    for i in assigments:\n",
    "        point_dict[i] = []\n",
    "#   объединяем с помощью zip предположения о кластере и объекты\n",
    "    for assign, point in zip(assigments, data):\n",
    "        point_dict[assign].append(point)\n",
    "# считаем новые центры по средним координатам\n",
    "    for key in point_dict.keys():\n",
    "        new_centers.append(points_avg(point_dict[key]))\n",
    "    \n",
    "    return new_centers"
   ]
  },
  {
   "cell_type": "code",
   "execution_count": 4,
   "metadata": {},
   "outputs": [],
   "source": [
    "def distance(a, b):\n",
    "    # считаем расстояние по Евклидовой метрике\n",
    "    dimention = len(a)\n",
    "    sum = 0\n",
    "    for i in range(dimention):\n",
    "        sum += (a[i]-b[i])**2\n",
    "    \n",
    "    return (sum)**0.5"
   ]
  },
  {
   "cell_type": "code",
   "execution_count": 5,
   "metadata": {},
   "outputs": [],
   "source": [
    "def assign_points(data, centers):\n",
    "#     лист для хранения значений принадлежности к кластру\n",
    "    assignments = []\n",
    "#     проходим по всем точкам\n",
    "    for point in data:\n",
    "#         наименьшее расстояние\n",
    "        shortest = float('Inf')  # positive infinity\n",
    "#         индекс класстера\n",
    "        shortest_index = 0\n",
    "#         считаем расстояние от точки до каждого из центров\n",
    "        for i in range(len(centers)):\n",
    "            val = distance(point, centers[i])\n",
    "            if val < shortest:\n",
    "                shortest = val\n",
    "                shortest_index = i\n",
    "#         print(shortest, shortest_index)\n",
    "        assignments.append(shortest_index)\n",
    "    return assignments\n",
    "        "
   ]
  },
  {
   "cell_type": "code",
   "execution_count": 6,
   "metadata": {},
   "outputs": [],
   "source": [
    "def generate_first_centers(data, k):\n",
    "#     случайным образом выбираем k центров кластеров\n",
    "#     centers = random.sample(data,k)\n",
    "    centers = []\n",
    "    for i in range(k):\n",
    "        centr = random.choice(data)\n",
    "        centers.append(centr)\n",
    "#     print(centers)\n",
    "    return centers"
   ]
  },
  {
   "cell_type": "code",
   "execution_count": 7,
   "metadata": {},
   "outputs": [],
   "source": [
    "def kmeans(data, k=2):\n",
    "#   генерируем первые точки центров\n",
    "    centers = generate_first_centers(data, k)\n",
    "#   распределяем данные по кластерам\n",
    "    assigments = assign_points(data, centers)\n",
    "#     print(assigments)\n",
    "#   переменная для запоминания предыдущих значений центров\n",
    "    old_assigments = None\n",
    "#   итерируем до тех пор пока значения центров не перестанут изменяться\n",
    "    while assigments != old_assigments:\n",
    "#       обновляем центры\n",
    "        centers = update_centers(assigments, data)\n",
    "#       запоминаем старые центры\n",
    "        old_assigments = assigments\n",
    "#       распределяем данные по кластерам\n",
    "        assigments = assign_points(data, centers)\n",
    "#     print(centers)\n",
    "    return  centers, assigments"
   ]
  },
  {
   "cell_type": "code",
   "execution_count": 8,
   "metadata": {},
   "outputs": [],
   "source": [
    "%matplotlib inline\n",
    "import matplotlib.pyplot as plt\n",
    "import seaborn as sns; sns.set()\n",
    "import numpy as np\n",
    "from sklearn.cluster import KMeans"
   ]
  },
  {
   "cell_type": "code",
   "execution_count": 9,
   "metadata": {},
   "outputs": [
    {
     "ename": "ModuleNotFoundError",
     "evalue": "No module named 'sklearn.datasets.samples_generator'",
     "output_type": "error",
     "traceback": [
      "\u001b[1;31m---------------------------------------------------------------------------\u001b[0m",
      "\u001b[1;31mModuleNotFoundError\u001b[0m                       Traceback (most recent call last)",
      "\u001b[1;32m<ipython-input-9-bf9f1fdb3bd0>\u001b[0m in \u001b[0;36m<module>\u001b[1;34m\u001b[0m\n\u001b[1;32m----> 1\u001b[1;33m \u001b[1;32mfrom\u001b[0m \u001b[0msklearn\u001b[0m\u001b[1;33m.\u001b[0m\u001b[0mdatasets\u001b[0m\u001b[1;33m.\u001b[0m\u001b[0msamples_generator\u001b[0m \u001b[1;32mimport\u001b[0m \u001b[0mmake_blobs\u001b[0m\u001b[1;33m\u001b[0m\u001b[1;33m\u001b[0m\u001b[0m\n\u001b[0m\u001b[0;32m      2\u001b[0m \u001b[0mX\u001b[0m\u001b[1;33m,\u001b[0m \u001b[0my_true\u001b[0m \u001b[1;33m=\u001b[0m \u001b[0mmake_blobs\u001b[0m\u001b[1;33m(\u001b[0m\u001b[0mn_samples\u001b[0m \u001b[1;33m=\u001b[0m \u001b[1;36m400\u001b[0m\u001b[1;33m,\u001b[0m \u001b[0mcenters\u001b[0m \u001b[1;33m=\u001b[0m \u001b[1;36m4\u001b[0m\u001b[1;33m,\u001b[0m \u001b[0mcluster_std\u001b[0m \u001b[1;33m=\u001b[0m \u001b[1;36m0.60\u001b[0m\u001b[1;33m,\u001b[0m \u001b[0mrandom_state\u001b[0m \u001b[1;33m=\u001b[0m \u001b[1;36m0\u001b[0m\u001b[1;33m)\u001b[0m\u001b[1;33m\u001b[0m\u001b[1;33m\u001b[0m\u001b[0m\n",
      "\u001b[1;31mModuleNotFoundError\u001b[0m: No module named 'sklearn.datasets.samples_generator'"
     ]
    }
   ],
   "source": [
    "from sklearn.datasets.samples_generator import make_blobs\n",
    "X, y_true = make_blobs(n_samples = 400, centers = 4, cluster_std = 0.60, random_state = 0)"
   ]
  },
  {
   "cell_type": "code",
   "execution_count": null,
   "metadata": {},
   "outputs": [],
   "source": []
  },
  {
   "cell_type": "code",
   "execution_count": null,
   "metadata": {},
   "outputs": [],
   "source": [
    "plt.scatter(X[:, 0], X[:, 1], s = 20);\n",
    "plt.show()"
   ]
  },
  {
   "cell_type": "code",
   "execution_count": null,
   "metadata": {},
   "outputs": [],
   "source": [
    "centers, k_y = kmeans(X, 4)"
   ]
  },
  {
   "cell_type": "code",
   "execution_count": null,
   "metadata": {},
   "outputs": [],
   "source": [
    "plt.scatter(X[:, 0], X[:, 1 ], c = k_y,  s = 20, cmap='summer')\n",
    "centers = [[-1.2689694020699236, 7.756081435724197], [-1.630887147178063, 2.848246010833195], [0.9418998536418635, 4.353941283759989], [1.9566267659267418, 0.8394567136049089]]\n",
    "for i in centers:\n",
    "    plt.plot(i[0], i[1], 'ro')\n",
    "\n",
    "# plt.scatter(centers[:, 0], centers[:, 1], c = 'blue', s = 100, alpha = 0.9);\n",
    "plt.show()"
   ]
  },
  {
   "cell_type": "markdown",
   "metadata": {},
   "source": [
    "Затем загрузите набор цифр из sklearn и создайте из него объект. Мы также можем найти количество строк и столбцов в этом наборе данных следующим образом:"
   ]
  },
  {
   "cell_type": "code",
   "execution_count": null,
   "metadata": {},
   "outputs": [],
   "source": [
    "from sklearn.datasets import load_digits\n",
    "digits = load_digits()\n",
    "digits.data.shape"
   ]
  },
  {
   "cell_type": "markdown",
   "metadata": {},
   "source": [
    " Приведенный выше вывод показывает, что этот набор данных имеет 1797 выборок с 64 признаками.\n",
    "\n",
    "Мы можем выполнить кластеризацию, как в примере 1 выше — "
   ]
  },
  {
   "cell_type": "code",
   "execution_count": null,
   "metadata": {},
   "outputs": [],
   "source": [
    "centers, k_y = kmeans(digits.data, 10)"
   ]
  },
  {
   "cell_type": "code",
   "execution_count": null,
   "metadata": {},
   "outputs": [],
   "source": [
    "import numpy"
   ]
  },
  {
   "cell_type": "code",
   "execution_count": null,
   "metadata": {},
   "outputs": [],
   "source": [
    "fig, ax = plt.subplots(2, 5, figsize=(8, 3))\n",
    "centers = numpy.array(centers).reshape(10, 8, 8)\n",
    "for axi, center in zip(ax.flat, centers):\n",
    "    axi.set(xticks=[], yticks=[])\n",
    "    axi.imshow(center, interpolation='nearest', cmap=plt.cm.binary)"
   ]
  },
  {
   "cell_type": "code",
   "execution_count": null,
   "metadata": {},
   "outputs": [],
   "source": []
  }
 ],
 "metadata": {
  "kernelspec": {
   "display_name": "Python 3",
   "language": "python",
   "name": "python3"
  },
  "language_info": {
   "codemirror_mode": {
    "name": "ipython",
    "version": 3
   },
   "file_extension": ".py",
   "mimetype": "text/x-python",
   "name": "python",
   "nbconvert_exporter": "python",
   "pygments_lexer": "ipython3",
   "version": "3.9.5"
  }
 },
 "nbformat": 4,
 "nbformat_minor": 4
}
