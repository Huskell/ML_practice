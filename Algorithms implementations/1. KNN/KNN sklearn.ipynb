{
 "cells": [
  {
   "cell_type": "markdown",
   "id": "ec7210e3",
   "metadata": {},
   "source": [
    "# Алгоритм К-ближайших соседей"
   ]
  },
  {
   "cell_type": "markdown",
   "id": "975d1235",
   "metadata": {},
   "source": [
    "**Описание:**\n",
    "\n",
    "Алгоритм K-ближайших соседей (KNN) – это, наверное, самый простой из алгоритмов контролируемого машинного обучения. Но, несмотря на свою простоту, активно применяется и выполняет порой очень сложные задачи классификации. \n",
    "В процессе работы, KNN каждый раз использует все данные для получения ответа при классификации новой точки данных или экземпляра. \n",
    "Работа данного алгоритма строиться на двух идеях:\n",
    "1.\tКонцепции расстояния между объектами\n",
    "2.\tДопущении, что объекты, расположенные близко друг к другу, подобны(похожи)\n",
    "\n",
    "KNN-это непараметрический алгоритм обучения, который означает, что он ничего не предполагает о базовых данных.\n"
   ]
  },
  {
   "cell_type": "markdown",
   "id": "2c9d24db",
   "metadata": {},
   "source": [
    "**Принцип действия:**\n",
    "\n",
    "1.\tБерем датасет data (признаки + ответы), используем для предсказания\n",
    "2.\tБерем датасет data2 (только признаки), требуется предсказать\n",
    "3.\tВ цикле перебираем объекты из data2:\n",
    "    1. Берем объект x \n",
    "    2. Вычисляем расстояние от него до ВСЕХ объектов чей класс мы знаем (из data)\n",
    "    3. Сортируем и выбираем из них k ближайших по расстоянию объектов к нашему\n",
    "    4. Подсчитываем сколько объектов каждого класса у нас получилось\n",
    "    5. Принимаем для нашего объекта тот класс которого больше в п.D\n"
   ]
  },
  {
   "cell_type": "markdown",
   "id": "7e30872a",
   "metadata": {},
   "source": [
    "**Как и какое брать расстояние?**<br>\n",
    "Расстояние можно определять любым удобным способом, но конечно же существуют «стандартные приемы»:"
   ]
  },
  {
   "cell_type": "markdown",
   "id": "cc5af3f3",
   "metadata": {},
   "source": [
    "1.\tЕвклидово расстояние – расстояние между двумя точками вычисляемое по теореме Пифагора\n",
    "\n",
    "Для точек p=(p1,p2…pn) и q=(q1,q2…qn) расстояние вычисляется по формуле \n",
    "$$d(p,q)=\\sqrt{((p1-q1)^2+(p2-q2)^2+...+(pn-qn)^2)} = \\sqrt{\\sum\\limits_{k=1}^n(pk-qk)^2}$$\n",
    "\n",
    "*Плюсы*: хорошо работает в низкоразмерных пространсвах\n",
    "обычный способ измерения расстояния в реальном мире. <br>\n",
    "<br>\n",
    "*Минусы*: оно не работает хорошо в больших измерениях и для категориальных переменных, \n",
    "оно игнорирует сходство между атрибутами, Каждый атрибут считается полностью отличным от всех атрибутов.\n",
    "\n",
    "Евклидово - это хорошая мера расстояния, которую можно использовать, если входные переменные имеют одинаковый тип"
   ]
  },
  {
   "cell_type": "markdown",
   "id": "72cda3fa",
   "metadata": {},
   "source": [
    "2. Косинусное расстояние"
   ]
  },
  {
   "cell_type": "markdown",
   "id": "e9a89077",
   "metadata": {},
   "source": [
    "3. Манхеттенское расстояние\n",
    "\n",
    "$$d(p,q)=\\sum\\limits_{k=1}^n|pk-qk|$$ \n",
    "Манхэттенское расстояние - хорошая мера для использования, если входные переменные не похожи по типу (например, возраст, пол, рост и т. Д.)\n"
   ]
  },
  {
   "cell_type": "markdown",
   "id": "455a54cb",
   "metadata": {},
   "source": [
    "4. Расстояние Минковского\n",
    "$$d(p,q)=\\sum\\limits_{k=1}^n((|pk-qk|)^q)^{1/q}$$ "
   ]
  },
  {
   "cell_type": "markdown",
   "id": "3566c786",
   "metadata": {},
   "source": [
    "### Сколько брать соседей?\n",
    "Думаю, интуитивно понятно, что число соседей равное 1 даст нам плохой результат, ввиду отсутствия инструмента принятия решений. Точно так же плохо будет работать и при числе соседей равном числу объектов (доминирующий/мажоритарный класс всегда будет «побеждать»). \n",
    "При бинарной классификации число соседей следует брать нечетным.\n",
    "\n",
    "Но всегда хорошо попробовать большое число разных вариантов. \n",
    "Например, в цикле for от 2 и до половины числа объектов в датасете. Данный способ в промышленности вроде как не применяется\n",
    "\n",
    "Мы можем найти оптимальное значение K с помощью k-кратной перекрестной проверки. Он включает в себя оценку частоты ошибок теста, выделяя подмножество обучающего набора из процесса подбора.\n"
   ]
  },
  {
   "cell_type": "markdown",
   "id": "58493744",
   "metadata": {},
   "source": [
    "### Способ приятия решений:\n",
    "1. Голосование по количеству объектов:\n",
    "\n",
    "2. Взвешенное голосование:\n",
    "    1. Умножение расстояния на число объектов каждого класса\n",
    "    2. Выбрать ближайший класс\n",
    "\n",
    "3. Путем уменьшения k до победного объекта:\n",
    "    1. Сортируем в порядке удаления объекты\n",
    "    2. Пытаемся определить мажоритарный класс\n",
    "    3. Если не выходит, то отбрасываем наиболее далекий объект\n"
   ]
  },
  {
   "cell_type": "markdown",
   "id": "3d2866f4",
   "metadata": {},
   "source": [
    "## Реализация в библиотеке sklearn"
   ]
  },
  {
   "cell_type": "markdown",
   "id": "20b87542",
   "metadata": {},
   "source": [
    "Используем библиотеку sklearn"
   ]
  },
  {
   "cell_type": "code",
   "execution_count": 2,
   "id": "58805817",
   "metadata": {},
   "outputs": [],
   "source": [
    "from sklearn.neighbors import KNeighborsClassifier, KNeighborsRegressor\n",
    "\n",
    "knn_for_classification = KNeighborsClassifier()\n",
    "knn_for_regression = KNeighborsClassifier()"
   ]
  },
  {
   "cell_type": "markdown",
   "id": "f58e995e",
   "metadata": {},
   "source": [
    "Данные классы имеют одинаковые параметры настройки:\n",
    "- n_neighbors : int, default=5 - число соседей, по умолчанию задается как 5<br>\n",
    " <br>\n",
    "- weights{‘uniform’, ‘distance’} or callable, default=’uniform’ - позволяет указать как мы работаем с расстоянием. По умолчанию uniform - признаки всех объектов вносят равный вклад в решение алгоритма. \"distance\" - позволяет взвешивать расстояния, т.е. более близкие объекты вносят более сильный вклад<br>\n",
    " <br>\n",
    "- algorithm : {‘auto’, ‘ball_tree’, ‘kd_tree’, ‘brute’}, default=’auto’ - алгоритм перебора соседей, по умолчанию стоит auto, т.е. выбирает сам в зависимости от числа элементов переданных в fit() для оптимизации скорости работы<br>\n",
    " <br>\n",
    "- metric : str or callable, default=’minkowski’ - задает метрику расстояния, по умолчанию расстояние Минковского. Другие расстояния представлены в таблице:\n",
    "\n",
    "|Расстояние    |Название расстояний|\n",
    "|--------------|-------------------|\n",
    "|“euclidean”   |EuclideanDistance  |\n",
    "|“manhattan”   |ManhattanDistance  |\n",
    "|“chebyshev”   |ChebyshevDistance  |\n",
    "|“minkowski”   |MinkowskiDistance  |\n",
    "|“wminkowski”  |WMinkowskiDistance |\n",
    "|“seuclidean”  |SEuclideanDistance |\n",
    "|“mahalanobis” |MahalanobisDistance|\n",
    "\n",
    "callable - означает что можно написать собственную функцию и передать её в данный алгоритм"
   ]
  },
  {
   "cell_type": "markdown",
   "id": "901dbb20",
   "metadata": {},
   "source": [
    "Класс **KNeighborsClassifier** имеет следующие методы:\n",
    "- fit(X, y) - обучает алгоритм на тренировочном датасете.\n",
    "\n",
    "- get_params([deep]) - возвращает параметры данного алгоритма.\n",
    "\n",
    "- kneighbors([X, n_neighbors, return_distance]) - возвращает два массива: один - с ближайшими расстояниями, другой - с индексами соседей соответсвенно.\n",
    "\n",
    "- predict(X) - Предсказывает класс для предоставленных данных.\n",
    "\n",
    "- predict_proba(X) - возвращает вероятность отнесения объектов к классам.\n",
    "\n",
    "- score(X, y[, sample_weight]) - Возвращает среднюю точность на тестовых данных\n",
    "\n",
    "- set_params(**params) - Устанвливает параметры алгоритма. Те же что в пункте про параметры ячейкой выше\n",
    "<br>\n",
    "\n",
    "Класс **KNeighborsRegressor** имеет теже методы с той разницей что:\n",
    "- не имеет метода predict_proba(X)\n",
    "- score(X, y[, sample_weight]) - Возвращает коэффициент детерминации предсказания"
   ]
  },
  {
   "cell_type": "code",
   "execution_count": 86,
   "id": "3b02c4ec",
   "metadata": {},
   "outputs": [
    {
     "data": {
      "text/plain": [
       "KNeighborsClassifier(n_neighbors=15)"
      ]
     },
     "execution_count": 86,
     "metadata": {},
     "output_type": "execute_result"
    }
   ],
   "source": [
    "import numpy as np\n",
    "import matplotlib.pyplot as plt\n",
    "import seaborn as sns\n",
    "from matplotlib.colors import ListedColormap\n",
    "from sklearn.neighbors import KNeighborsClassifier\n",
    "from sklearn import datasets\n",
    "\n",
    "iris = datasets.load_iris()\n",
    "X = iris.data[:, :2]\n",
    "y = iris.target\n",
    "\n",
    "n_neighbors = 15\n",
    "knn_for_classification = KNeighborsClassifier(n_neighbors)\n",
    "knn_for_classification.fit(X, y)"
   ]
  },
  {
   "cell_type": "markdown",
   "id": "e50fb610",
   "metadata": {},
   "source": [
    "Выведем параметры алгоритма(здесь есть такие о которые не указал и смылса их указывать нет):"
   ]
  },
  {
   "cell_type": "code",
   "execution_count": 87,
   "id": "36a404b0",
   "metadata": {},
   "outputs": [
    {
     "data": {
      "text/plain": [
       "{'algorithm': 'auto',\n",
       " 'leaf_size': 30,\n",
       " 'metric': 'minkowski',\n",
       " 'metric_params': None,\n",
       " 'n_jobs': None,\n",
       " 'n_neighbors': 15,\n",
       " 'p': 2,\n",
       " 'weights': 'uniform'}"
      ]
     },
     "execution_count": 87,
     "metadata": {},
     "output_type": "execute_result"
    }
   ],
   "source": [
    "knn_for_classification.get_params()"
   ]
  },
  {
   "cell_type": "markdown",
   "id": "d3b0030a",
   "metadata": {},
   "source": [
    "Нарисуем области классификации:"
   ]
  },
  {
   "cell_type": "code",
   "execution_count": 80,
   "id": "657bc6b9",
   "metadata": {},
   "outputs": [
    {
     "data": {
      "image/png": "[encoded data removed]",
      "text/plain": [
       "<Figure size 576x432 with 1 Axes>"
      ]
     },
     "metadata": {
      "needs_background": "light"
     },
     "output_type": "display_data"
    }
   ],
   "source": [
    "h = .02  # step size in the mesh\n",
    "\n",
    "# Create color maps\n",
    "cmap_light = ListedColormap(['orange', 'cyan', 'cornflowerblue'])\n",
    "cmap_bold = ['darkorange', 'c', 'darkblue']\n",
    "\n",
    "# Plot the decision boundary. For that, we will assign a color to each\n",
    "# point in the mesh [x_min, x_max]x[y_min, y_max].\n",
    "x_min, x_max = X[:, 0].min() - 1, X[:, 0].max() + 1\n",
    "y_min, y_max = X[:, 1].min() - 1, X[:, 1].max() + 1\n",
    "xx, yy = np.meshgrid(np.arange(x_min, x_max, h),\n",
    "                      np.arange(y_min, y_max, h))\n",
    "Z = knn_for_classification.predict(np.c_[xx.ravel(), yy.ravel()])\n",
    "\n",
    "# Put the result into a color plot\n",
    "Z = Z.reshape(xx.shape)\n",
    "plt.figure(figsize=(8, 6))\n",
    "plt.contourf(xx, yy, Z, cmap=cmap_light)\n",
    "\n",
    "# Plot also the training points\n",
    "sns.scatterplot(x=X[:, 0], y=X[:, 1], hue=iris.target_names[y],\n",
    "                palette=cmap_bold, alpha=1.0, edgecolor=\"black\")\n",
    "plt.xlim(xx.min(), xx.max())\n",
    "plt.ylim(yy.min(), yy.max())\n",
    "plt.title(\"3-Class classification (k = %i)\"\n",
    "          % (n_neighbors))\n",
    "plt.xlabel(iris.feature_names[0])\n",
    "plt.ylabel(iris.feature_names[1])\n",
    "\n",
    "plt.show()"
   ]
  },
  {
   "cell_type": "markdown",
   "id": "6e0c5f0e",
   "metadata": {},
   "source": [
    "Изменим параметры алгоритма с помощью метода set_params:"
   ]
  },
  {
   "cell_type": "code",
   "execution_count": 88,
   "id": "209b0bb4",
   "metadata": {},
   "outputs": [
    {
     "data": {
      "text/plain": [
       "{'algorithm': 'auto',\n",
       " 'leaf_size': 30,\n",
       " 'metric': 'minkowski',\n",
       " 'metric_params': None,\n",
       " 'n_jobs': None,\n",
       " 'n_neighbors': 10,\n",
       " 'p': 2,\n",
       " 'weights': 'uniform'}"
      ]
     },
     "execution_count": 88,
     "metadata": {},
     "output_type": "execute_result"
    }
   ],
   "source": [
    "knn_for_classification.set_params(n_neighbors=10)\n",
    "knn_for_classification.get_params()"
   ]
  },
  {
   "cell_type": "markdown",
   "id": "94f557d7",
   "metadata": {},
   "source": [
    "Нарисуем новые области классификации:"
   ]
  },
  {
   "cell_type": "code",
   "execution_count": 89,
   "id": "aefcdb56",
   "metadata": {},
   "outputs": [
    {
     "data": {
      "image/png": "[encoded data removed]",
      "text/plain": [
       "<Figure size 576x432 with 1 Axes>"
      ]
     },
     "metadata": {
      "needs_background": "light"
     },
     "output_type": "display_data"
    }
   ],
   "source": [
    "h = .02  # step size in the mesh\n",
    "\n",
    "# Create color maps\n",
    "cmap_light = ListedColormap(['orange', 'cyan', 'cornflowerblue'])\n",
    "cmap_bold = ['darkorange', 'c', 'darkblue']\n",
    "\n",
    "# Plot the decision boundary. For that, we will assign a color to each\n",
    "# point in the mesh [x_min, x_max]x[y_min, y_max].\n",
    "x_min, x_max = X[:, 0].min() - 1, X[:, 0].max() + 1\n",
    "y_min, y_max = X[:, 1].min() - 1, X[:, 1].max() + 1\n",
    "xx, yy = np.meshgrid(np.arange(x_min, x_max, h),\n",
    "                      np.arange(y_min, y_max, h))\n",
    "Z = knn_for_classification.predict(np.c_[xx.ravel(), yy.ravel()])\n",
    "\n",
    "# Put the result into a color plot\n",
    "Z = Z.reshape(xx.shape)\n",
    "plt.figure(figsize=(8, 6))\n",
    "plt.contourf(xx, yy, Z, cmap=cmap_light)\n",
    "\n",
    "# Plot also the training points\n",
    "sns.scatterplot(x=X[:, 0], y=X[:, 1], hue=iris.target_names[y],\n",
    "                palette=cmap_bold, alpha=1.0, edgecolor=\"black\")\n",
    "plt.xlim(xx.min(), xx.max())\n",
    "plt.ylim(yy.min(), yy.max())\n",
    "plt.title(\"3-Class classification (k = %i)\"\n",
    "          % (n_neighbors))\n",
    "plt.xlabel(iris.feature_names[0])\n",
    "plt.ylabel(iris.feature_names[1])\n",
    "\n",
    "plt.show()"
   ]
  },
  {
   "cell_type": "markdown",
   "id": "6b6ac4eb",
   "metadata": {},
   "source": [
    "### Как подбирать соседей? \n",
    "Итеративно:"
   ]
  },
  {
   "cell_type": "code",
   "execution_count": 94,
   "id": "debc243a",
   "metadata": {},
   "outputs": [],
   "source": [
    "from sklearn.model_selection import train_test_split\n",
    "from sklearn.metrics import accuracy_score\n",
    "\n",
    "x_train, x_test,y_train,y_test = train_test_split(X,y,test_size=0.33, random_state=8)"
   ]
  },
  {
   "cell_type": "code",
   "execution_count": 95,
   "id": "68491e23",
   "metadata": {},
   "outputs": [
    {
     "name": "stdout",
     "output_type": "stream",
     "text": [
      "The accuracy of the KNeighbors Classifier is 0.72\n"
     ]
    }
   ],
   "source": [
    "# Создадим модель со статичным числом соседей:\n",
    "\n",
    "model = KNeighborsClassifier(n_neighbors=3)\n",
    "model.fit(x_train,y_train)\n",
    "prediction=model.predict(x_test)\n",
    "\n",
    "print('The accuracy of the KNeighbors Classifier is',accuracy_score(prediction,y_test))"
   ]
  },
  {
   "cell_type": "code",
   "execution_count": 99,
   "id": "281e90cf",
   "metadata": {},
   "outputs": [],
   "source": [
    "# В цикле выберем число соседей с наибольшой точностью\n",
    "\n",
    "# Для этого создадим массив соседей:\n",
    "neighbors = list(range(1,20))\n",
    "# создадим массив в котором будем хранить точность алгоритма по индексу числа соседей\n",
    "accuracy_knn = []\n",
    "\n",
    "# создадим в цикле модели алгоритма и обучим с разным числом соседей:\n",
    "for i in neighbors:\n",
    "    model = KNeighborsClassifier(n_neighbors=i)\n",
    "    model.fit(x_train,y_train)\n",
    "    prediction=model.predict(x_test)\n",
    "    accuracy_knn.append(accuracy_score(prediction,y_test))"
   ]
  },
  {
   "cell_type": "code",
   "execution_count": 100,
   "id": "adb17d89",
   "metadata": {},
   "outputs": [
    {
     "name": "stdout",
     "output_type": "stream",
     "text": [
      "Число соседей с максимальной точностью предсказания 0.76 = [6, 7, 8]\n"
     ]
    },
    {
     "data": {
      "image/png": "[encoded data removed]",
      "text/plain": [
       "<Figure size 720x360 with 1 Axes>"
      ]
     },
     "metadata": {
      "needs_background": "light"
     },
     "output_type": "display_data"
    }
   ],
   "source": [
    "# Выведем график зависимости точности от числа соседей:\n",
    "fig = plt.figure(figsize=(10, 5))\n",
    "plt.plot(neighbors, accuracy_knn)\n",
    "index_max = [num for num, i in enumerate(accuracy_knn) if i == max(accuracy_knn)]\n",
    "print('Число соседей с максимальной точностью предсказания {} = {}'.format(max(accuracy_knn), [neighbors[i] for i in index_max]))"
   ]
  },
  {
   "cell_type": "markdown",
   "id": "c8081339",
   "metadata": {},
   "source": [
    "### Метрики качества (дополню потом):\n",
    "При классификации - стандартные для данного типа задач:\n",
    "1.\taccuracy\n",
    "2.\tpressicion\n",
    "3.\trecall\n",
    "4.\tf1\n",
    "5.\tROC \n",
    "6.\tAUC\n",
    "7.\tМатрица ошибок (confusion_matrix)\n",
    "\n",
    "При регрессии - стандартные для данного типа задач:\n",
    "1.\tmse\n",
    "2.\trmse\n",
    "3.\t\n"
   ]
  },
  {
   "cell_type": "markdown",
   "id": "13a8062c",
   "metadata": {},
   "source": [
    "### Алгоритмическая сложность:\n",
    "Сложность алгоритм возрастает пропорционально росту числа объектов для которых мы вычисляем расстояние.\n",
    "Так же на время работы влияет функция расстояния и количество параметров объектов, но тут надо оценивать по сложности математических операций\n",
    "\n",
    "Таким образом, при работе на n объектах, имеющих m признаков мы должны рассчитать все объекты со всеми их признаками что приводит нас к сложности O(nm)\n"
   ]
  },
  {
   "cell_type": "markdown",
   "id": "80b53207",
   "metadata": {},
   "source": [
    "### Плюсы и Минусы алгоритма:\n",
    "**Плюсы:** <br>\n",
    "1. KNN чрезвычайно легко реализовать\n",
    "2. Как уже было сказано ранее, это алгоритм ленивого обучения и поэтому не требует обучения перед тем, как делать прогнозы в реальном времени. Это делает алгоритм KNN намного быстрее, чем другие алгоритмы, требующие обучения.\n",
    "3. Поскольку алгоритм не требует обучения перед тем, как делать прогнозы, новые данные могут быть легко добавлены.\n",
    "4. Для реализации KNN требуется только два параметра-значение K и функция расстояния (например, евклидова или манхэттенская и т.д.)\n",
    "\n",
    "**Минусы:** <br>\n",
    "1.\tАлгоритм KNN плохо работает с данными высокой размерности, потому что при большом количестве измерений алгоритму становится трудно вычислить расстояние в каждом измерении (см. Сложность алгоритма).\n",
    "2.\tАлгоритм KNN имеет высокую стоимость прогнозирования для больших наборов данных. Это связано с тем, что в больших наборах данных стоимость вычисления расстояния между новой точкой и каждой существующей точкой становится выше.\n",
    "3.\tНаконец, алгоритм KNN плохо работает с категориальными объектами, так как трудно найти расстояние между измерениями с категориальными объектами.\n",
    "4.\tПодвержен «Проклятию размерности» (об этом позднее)\n"
   ]
  },
  {
   "cell_type": "markdown",
   "id": "24783b80",
   "metadata": {},
   "source": [
    "### Формат входных данных:\n",
    "\n",
    "Поскольку диапазон значений исходных данных может сильно варьироваться, в некоторых алгоритмах машинного обучения целевые функции не будут работать должным образом без нормализации. Например, большинство классификаторов вычисляют расстояние между двумя точками по евклидову расстоянию. Если один из объектов имеет широкий диапазон значений, то расстояние будет определяться этим конкретным объектом. Поэтому диапазон всех объектов должен быть нормализован таким образом, чтобы каждый объект вносил примерно пропорциональный вклад в конечное расстояние.\n",
    "\n",
    "Работает с выбросами, но не отбрасывает их, а делает на них предсказание.\n",
    "Не работает с пропусками – не сможет вычислить расстояние при отсутствии значения\n",
    "\n",
    "Масштабирование – sklearn.preprocessing import  standart scaler\n",
    "\n",
    "Алгоритм градиентного спуска (который используется в обучении нейронных сетей и других алгоритмах машинного обучения) также быстрее сходится с нормализованными функциями.\n",
    "\n",
    "•  *Масштабировать данные*: KNN работает намного лучше, если все данные имеют одинаковый масштаб. Нормализация ваших данных в диапазоне [0, 1] - хорошая идея. Также может быть хорошей идеей стандартизировать ваши данные, если они имеют распределение Гаусса. <br>\n",
    "•  *Адрес пропущенных данных*: Отсутствие данных будет означать, что расстояние между выборками не может быть рассчитано. Эти образцы могут быть исключены или пропущенные значения могут быть вменены. <br>\n",
    "•  *Нижняя размерность*: KNN подходит для данных меньшего размера. Вы можете попробовать его на многомерных данных (сотни или тысячи входных переменных), но имейте в виду, что он может работать не так хорошо, как другие методы. KNN может извлечь выгоду из выбора объектов, который уменьшает размерность входного пространства объектов.\n"
   ]
  },
  {
   "cell_type": "markdown",
   "id": "da7f8c4d",
   "metadata": {},
   "source": [
    "### Применение алгоритма\n",
    "Данный алгоритм почти всегда хорош как «baseline»\n",
    "\n",
    "1.\tРекомендательные системы\n",
    "2.\tКлассификация\n",
    "3.\tРегрессия\n",
    "4.\tДетекция выбросов\n",
    "5.\tСемантический поиск похожих документов"
   ]
  },
  {
   "cell_type": "markdown",
   "id": "84247416",
   "metadata": {},
   "source": [
    "# Регрессия:\n",
    "Когда KNN используется для проблем регрессии, прогноз основывается на среднем или медиане K-подобных случаев."
   ]
  },
  {
   "cell_type": "markdown",
   "id": "f4ffd37b",
   "metadata": {},
   "source": [
    "Пример применения для регрессии лежит в файле с датасетом House_pricing_prediction"
   ]
  },
  {
   "cell_type": "code",
   "execution_count": null,
   "id": "31c59c42",
   "metadata": {},
   "outputs": [],
   "source": []
  }
 ],
 "metadata": {
  "kernelspec": {
   "display_name": "Python 3",
   "language": "python",
   "name": "python3"
  },
  "language_info": {
   "codemirror_mode": {
    "name": "ipython",
    "version": 3
   },
   "file_extension": ".py",
   "mimetype": "text/x-python",
   "name": "python",
   "nbconvert_exporter": "python",
   "pygments_lexer": "ipython3",
   "version": "3.9.5"
  }
 },
 "nbformat": 4,
 "nbformat_minor": 5
}
