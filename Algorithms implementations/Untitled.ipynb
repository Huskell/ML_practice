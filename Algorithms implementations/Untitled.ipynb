{
 "cells": [
  {
   "cell_type": "code",
   "execution_count": 1,
   "id": "f85fef59",
   "metadata": {},
   "outputs": [],
   "source": [
    "def majority_vote(labels):\n",
    "    votes = Counter(labels)\n",
    "    winner, _ = votes.most_common(1)[0]\n",
    "    \n",
    "    return winner"
   ]
  },
  {
   "cell_type": "code",
   "execution_count": 4,
   "id": "f89fb82a",
   "metadata": {},
   "outputs": [],
   "source": [
    "def weighted_vote():\n",
    "    pass"
   ]
  },
  {
   "cell_type": "code",
   "execution_count": 5,
   "id": "c54adc41",
   "metadata": {},
   "outputs": [],
   "source": [
    "def majority_vote_2_0():\n",
    "    votes = Counter(labels)\n",
    "    winner, winner_count = votes.most_common(1)[0]\n",
    "    \n",
    "    num_winners = len([c for c in votes.values() if c == winner_count])\n",
    "    if num_winner == 1:\n",
    "        return winner\n",
    "    else:\n",
    "        return majority_vote_2_0(labels[:-1])"
   ]
  },
  {
   "cell_type": "code",
   "execution_count": 9,
   "id": "40a8e743",
   "metadata": {},
   "outputs": [
    {
     "name": "stdout",
     "output_type": "stream",
     "text": [
      "[1, 1, 1, 2, 2]\n",
      "predict :  1.4\n",
      "versicolor\n",
      "2\n"
     ]
    }
   ],
   "source": [
    "from math import sqrt\n",
    "from sklearn import datasets\n",
    "from sklearn.model_selection import train_test_split\n",
    "import numpy as np\n",
    "# from sorting_algo.quick_sort import quick_sort\n",
    "\n",
    "\n",
    "class knn:\n",
    "    def __init__(self, x_train=0, y_train=0, classes=0, k=0):\n",
    "        self.x_train = x_train\n",
    "        self.y_train = y_train\n",
    "        self.classes = classes\n",
    "        self.point = None\n",
    "        self.k = k\n",
    "\n",
    "    def distances(self):\n",
    "        summ = 0\n",
    "        distance = []\n",
    "        for i in range(len(self.x_train)):\n",
    "            for j in range(len(self.x_train[0])):\n",
    "                summ += (self.x_train[i][j] - self.point[j]) ** 2\n",
    "            distance.append(sqrt(summ))\n",
    "            summ = 0\n",
    "        return distance\n",
    "\n",
    "    def fit(self, x_train, y_train, classes, k=5):\n",
    "        self.x_train = x_train\n",
    "        self.y_train = y_train\n",
    "        self.classes = classes\n",
    "        self.k = k\n",
    "\n",
    "    def predict(self, point):\n",
    "        self.point = point\n",
    "        dist = self.distances()\n",
    "        pr = {}\n",
    "        for i in range(len(self.x_train)):\n",
    "            pr[dist[i]] = self.y_train[i]\n",
    "        sort_dist = sorted(list(pr.keys()))\n",
    "        result = []\n",
    "        for i in sort_dist[:self.k]:\n",
    "            result.append(pr[i])\n",
    "        print(result)\n",
    "        sum = 0\n",
    "        for i in result:\n",
    "            sum += i\n",
    "        return sum/len(result)\n",
    "\n",
    "def main():\n",
    "    data = datasets.load_iris()\n",
    "\n",
    "    X = np.array(data[\"data\"])\n",
    "    y = np.array(data[\"target\"])\n",
    "    classes = data[\"target_names\"]\n",
    "\n",
    "    X_train, X_test, y_train, y_test = train_test_split(X, y)\n",
    "\n",
    "    model = knn()\n",
    "    model.fit(X_train, y_train, classes)\n",
    "    p = model.predict(X_test[3])\n",
    "    print('predict : ', p)\n",
    "    print(classes[int(round(p))])\n",
    "    print(y_test[3])\n",
    "\n",
    "if __name__ == '__main__':\n",
    "    main()"
   ]
  },
  {
   "cell_type": "code",
   "execution_count": null,
   "id": "2e8e3a59",
   "metadata": {},
   "outputs": [],
   "source": []
  },
  {
   "cell_type": "code",
   "execution_count": null,
   "id": "25728296",
   "metadata": {},
   "outputs": [],
   "source": []
  },
  {
   "cell_type": "code",
   "execution_count": null,
   "id": "377643a7",
   "metadata": {},
   "outputs": [],
   "source": []
  },
  {
   "cell_type": "code",
   "execution_count": 7,
   "id": "e23f3a22",
   "metadata": {},
   "outputs": [
    {
     "data": {
      "text/plain": [
       "KNeighborsClassifier(n_neighbors=15)"
      ]
     },
     "execution_count": 7,
     "metadata": {},
     "output_type": "execute_result"
    }
   ],
   "source": [
    "import numpy as np\n",
    "import matplotlib.pyplot as plt\n",
    "import seaborn as sns\n",
    "from matplotlib.colors import ListedColormap\n",
    "from sklearn import neighbors, datasets\n",
    "\n",
    "n_neighbors = 15\n",
    "iris = datasets.load_iris()\n",
    "\n",
    "X = iris.data[:, :2]\n",
    "y = iris.target\n",
    "clf = neighbors.KNeighborsClassifier(n_neighbors)\n",
    "clf.fit(X, y)"
   ]
  },
  {
   "cell_type": "code",
   "execution_count": 8,
   "id": "3e8106bb",
   "metadata": {},
   "outputs": [
    {
     "data": {
      "image/png": "[encoded data removed]",
      "text/plain": [
       "<Figure size 576x432 with 1 Axes>"
      ]
     },
     "metadata": {
      "needs_background": "light"
     },
     "output_type": "display_data"
    }
   ],
   "source": [
    "h = .02  # step size in the mesh\n",
    "\n",
    "# Create color maps\n",
    "cmap_light = ListedColormap(['orange', 'cyan', 'cornflowerblue'])\n",
    "cmap_bold = ['darkorange', 'c', 'darkblue']\n",
    "\n",
    "# Plot the decision boundary. For that, we will assign a color to each\n",
    "# point in the mesh [x_min, x_max]x[y_min, y_max].\n",
    "x_min, x_max = X[:, 0].min() - 1, X[:, 0].max() + 1\n",
    "y_min, y_max = X[:, 1].min() - 1, X[:, 1].max() + 1\n",
    "xx, yy = np.meshgrid(np.arange(x_min, x_max, h),\n",
    "                      np.arange(y_min, y_max, h))\n",
    "Z = clf.predict(np.c_[xx.ravel(), yy.ravel()])\n",
    "\n",
    "# Put the result into a color plot\n",
    "Z = Z.reshape(xx.shape)\n",
    "plt.figure(figsize=(8, 6))\n",
    "plt.contourf(xx, yy, Z, cmap=cmap_light)\n",
    "\n",
    "# Plot also the training points\n",
    "sns.scatterplot(x=X[:, 0], y=X[:, 1], hue=iris.target_names[y],\n",
    "                palette=cmap_bold, alpha=1.0, edgecolor=\"black\")\n",
    "plt.xlim(xx.min(), xx.max())\n",
    "plt.ylim(yy.min(), yy.max())\n",
    "plt.title(\"3-Class classification (k = %i)\"\n",
    "          % (n_neighbors))\n",
    "plt.xlabel(iris.feature_names[0])\n",
    "plt.ylabel(iris.feature_names[1])\n",
    "\n",
    "plt.show()"
   ]
  },
  {
   "cell_type": "code",
   "execution_count": null,
   "id": "7212528e",
   "metadata": {},
   "outputs": [],
   "source": []
  }
 ],
 "metadata": {
  "kernelspec": {
   "display_name": "Python 3",
   "language": "python",
   "name": "python3"
  },
  "language_info": {
   "codemirror_mode": {
    "name": "ipython",
    "version": 3
   },
   "file_extension": ".py",
   "mimetype": "text/x-python",
   "name": "python",
   "nbconvert_exporter": "python",
   "pygments_lexer": "ipython3",
   "version": "3.9.5"
  }
 },
 "nbformat": 4,
 "nbformat_minor": 5
}
