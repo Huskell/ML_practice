{
 "cells": [
  {
   "cell_type": "markdown",
   "metadata": {},
   "source": [
    "## Линейная регрессия"
   ]
  },
  {
   "cell_type": "markdown",
   "metadata": {},
   "source": [
    "#### Домашнее задание\n",
    "\n",
    "Необходимо написать код реализации алгоритмов и проверить их на данных.\n",
    "\n",
    "Реализация алгоритмов выполняется путем вписывания нежостающих частей кода в соотвествующие блоки"
   ]
  },
  {
   "cell_type": "markdown",
   "metadata": {
    "collapsed": true
   },
   "source": [
    "#### Перед началом:\n",
    "Символом - # в Python обозначаются комментарии. Комментарии это строки которые программа не выполняет(пропускает)\n",
    "\n",
    "Если требуется установить какую-либо библиотеку, надо воспользоваться коммандой:\n",
    " !pip install *\n",
    "где вместо * надо подставить имя библиотеки\n",
    "\n",
    "Пример: \n",
    "!pip install matplotlib"
   ]
  },
  {
   "cell_type": "code",
   "execution_count": 9,
   "metadata": {},
   "outputs": [],
   "source": [
    "# Блок импорта библиотек\n",
    "# import * - позволяет подлкючить библиотеку к проекту\n",
    "# import * as * - позволяет подлкючить библиотеку и отбращаться к ней по имени написанном после as.\n",
    "\n",
    "import pandas as pd #библиотека для работы с данными\n",
    "import numpy as np #математическая библиотека\n",
    "\n",
    "import matplotlib.pyplot as plt # библиотека для визуализации\n",
    "\n"
   ]
  },
  {
   "cell_type": "code",
   "execution_count": 10,
   "metadata": {},
   "outputs": [],
   "source": [
    "# вызов методов(различных функций) из библиотек осуществляется через \".\"\n",
    "# *имя библиотеки*.*имя функции*\n",
    "\n",
    "# метод read_csv() позволяет загрузить в оперативную память данные с которыми предстоит работать.\n",
    "df = pd.read_csv('data.csv', header=None, names=['X', 'Y'])"
   ]
  },
  {
   "cell_type": "code",
   "execution_count": 2,
   "metadata": {
    "scrolled": false
   },
   "outputs": [],
   "source": [
    "# Данная функция позволяет вузуализировать загруженные данные\n",
    "def plot_data():\n",
    "    plt.figure(figsize=(14, 8))\n",
    "    plt.scatter(df['X'], df['Y'])\n",
    "    plt.xlabel('X')\n",
    "    plt.ylabel('Y')\n",
    "    plt.title('Dataset')"
   ]
  },
  {
   "cell_type": "code",
   "execution_count": 3,
   "metadata": {},
   "outputs": [],
   "source": [
    "# Визуализируйте данные из файла data.csv\n",
    "\n",
    "# писать код здесь:"
   ]
  },
  {
   "cell_type": "code",
   "execution_count": 4,
   "metadata": {},
   "outputs": [],
   "source": [
    "# Данная функция позволяет рисовать линии\n",
    "# Принимает следующие аргументы:\n",
    "# df - данные по которым строим линейную регрессию\n",
    "# w0, w1 - коэффициенты регрессии\n",
    "# color - цвет линии, по умолчанию \"красный\"\n",
    "\n",
    "def plot_line(df, w0, w1, color='r'):\n",
    "    y = w1*df['X'] + w0\n",
    "    plt.plot(df['X'], y, color, alpha=0.5, label='manifold')"
   ]
  },
  {
   "cell_type": "markdown",
   "metadata": {},
   "source": [
    "### Метод наименьших квадратов"
   ]
  },
  {
   "cell_type": "code",
   "execution_count": null,
   "metadata": {},
   "outputs": [],
   "source": []
  },
  {
   "cell_type": "code",
   "execution_count": 15,
   "metadata": {},
   "outputs": [],
   "source": [
    "# Класс линейной регрессии на основе МНК\n",
    "\n",
    "class MNK_linear_regressoin:\n",
    "    def __init__(self):\n",
    "        self.w1 = 0\n",
    "        self.w0 = 0\n",
    "    \n",
    "    # метод возвращающий параметры модели\n",
    "    def get_param(self):\n",
    "        return [self.w0, self.w1]\n",
    "    \n",
    "    # метод вычисляющий параметры модели исходя из данных\n",
    "    def fit(self, x, y):\n",
    "        # Писать код ниже:\n",
    "\n",
    "    \n",
    "    # метод предсказывающий ответ по входным данным\n",
    "    def predict(self, x):\n",
    "        return self.w1*x + self.w0"
   ]
  },
  {
   "cell_type": "code",
   "execution_count": 5,
   "metadata": {},
   "outputs": [],
   "source": [
    "# Создать объект линейной регрессии:\n",
    "\n",
    "# вывести папаремтры до обучения:\n",
    "\n",
    "# провести обучение модели на данных\n",
    "\n",
    "# вывести папаремтры после обучения:\n",
    "\n",
    "\n"
   ]
  },
  {
   "cell_type": "code",
   "execution_count": 6,
   "metadata": {},
   "outputs": [],
   "source": [
    "# Визуализировать полученные результаты на графике с данными\n",
    "\n"
   ]
  },
  {
   "cell_type": "markdown",
   "metadata": {},
   "source": [
    "### Статистика"
   ]
  },
  {
   "cell_type": "code",
   "execution_count": null,
   "metadata": {},
   "outputs": [],
   "source": [
    "class Stat_linear_regressoin:\n",
    "    def __init__(self):\n",
    "        self.w1 = 0\n",
    "        self.w0 = 0\n",
    "    \n",
    "    # метод возвращающий параметры модели\n",
    "    def get_param(self):\n",
    "        return [self.w0, self.w1]\n",
    "    \n",
    "    # метод вычисляющий параметры модели исходя из данных\n",
    "    def fit(self, x, y):\n",
    "        # Писать код ниже:\n",
    "\n",
    "    def get_mc(self, x, y)\n",
    "        # Писать код ниже(Можно снять # и дописать):\n",
    "#         X_mc = \n",
    "#         Y_mc = \n",
    "#         return [X_mc, Y_mc]\n",
    "    \n",
    "    # метод предсказывающий ответ по входным данным\n",
    "    def predict(self, x):\n",
    "        return self.w1*x + self.w0"
   ]
  },
  {
   "cell_type": "code",
   "execution_count": null,
   "metadata": {},
   "outputs": [],
   "source": [
    "# Создать объект линейной регрессии:\n",
    "\n",
    "# вывести папаремтры до обучения:\n",
    "\n",
    "# провести обучение модели на данных\n",
    "\n",
    "# вывести папаремтры после обучения:\n",
    "\n",
    "\n"
   ]
  },
  {
   "cell_type": "code",
   "execution_count": 18,
   "metadata": {},
   "outputs": [],
   "source": [
    "# Визуализировать полученные результаты на графике с данными, не забыть про центр масс\n",
    "\n"
   ]
  },
  {
   "cell_type": "markdown",
   "metadata": {},
   "source": [
    "### Градиентный спуск"
   ]
  },
  {
   "cell_type": "code",
   "execution_count": null,
   "metadata": {},
   "outputs": [],
   "source": [
    "class GD_linear_regressoin:\n",
    "    def __init__(self):\n",
    "        self.w1 = 0\n",
    "        self.w0 = 0\n",
    "    \n",
    "    # метод возвращающий параметры модели\n",
    "    def get_param(self):\n",
    "        return [self.w0, self.w1]\n",
    "    \n",
    "    # метод вычисляющий параметры модели исходя из данных\n",
    "    def fit(self, x, y):\n",
    "        # Писать код ниже:\n",
    "    \n",
    "    # функция считающая ошибку на данных\n",
    "    def score(self, x, y):\n",
    "        # Писать код ниже:\n",
    "    \n",
    "    \n",
    "    def gd_step()\n",
    "        pass\n",
    "    \n",
    "    def grad_desc()\n",
    "        pass\n",
    "    \n",
    "    # метод предсказывающий ответ по входным данным\n",
    "    def predict(self, x):\n",
    "        return self.w1*x + self.w0"
   ]
  },
  {
   "cell_type": "code",
   "execution_count": 25,
   "metadata": {},
   "outputs": [],
   "source": [
    "def compute_cost(c, m, x, y):\n",
    "    total_cost = 0\n",
    "    N = float(len(x))\n",
    "    \n",
    "    # Compute sum of squared errors\n",
    "    for i in range(0, len(x)):\n",
    "        xc = x[i]\n",
    "        yc = y[i]\n",
    "        total_cost += (yc - (m * xc + c)) ** 2\n",
    "        \n",
    "    # Return average of squared error\n",
    "    return total_cost/N"
   ]
  },
  {
   "cell_type": "code",
   "execution_count": 26,
   "metadata": {},
   "outputs": [],
   "source": [
    "def gradient_descent(x, y, w0_start, w1_start, learning_rate, num_iterations):\n",
    "    w0 = w0_start\n",
    "    w1 = w1_start\n",
    "    cost = []\n",
    "\n",
    "    for i in range(num_iterations):\n",
    "        cost.append(compute_cost(w0, w1, x, y))\n",
    "        w0, w1 = step_gradient(w0, w1, x, y, learning_rate)\n",
    "\n",
    "    return [w0, w1, cost]\n",
    "\n",
    "def step_gradient(w0, w1, x, y, learning_rate):\n",
    "    w0_sum = 0\n",
    "    w1_sum = 0\n",
    "    N = float(len(x))\n",
    "\n",
    "    # Calculate Gradient\n",
    "    for i in range(0, len(x)):\n",
    "        xg = x[i]\n",
    "        yg = y[i]\n",
    "        w1_sum += - (2/N) * (yg - (w1 * xg + w0)) * xg\n",
    "        w0_sum += - (2/N) * (yg - (w1 * xg + w0))\n",
    "    \n",
    "    # Update current \n",
    "    w0_new = w0 - learning_rate * w0_sum\n",
    "    w1_new = w1 - learning_rate * w1_sum\n",
    "\n",
    "    # Return updated parameters\n",
    "    return w0_new, w1_new"
   ]
  },
  {
   "cell_type": "code",
   "execution_count": 27,
   "metadata": {
    "scrolled": true
   },
   "outputs": [
    {
     "name": "stdout",
     "output_type": "stream",
     "text": [
      "w0 = : 0.029493615447130316\n",
      "w1 = : 1.4700028426067162\n",
      "Q = : 112.84803925712859\n"
     ]
    }
   ],
   "source": [
    "w0_start = 0\n",
    "w1_start = 0\n",
    "learning_rate = 0.00001\n",
    "num_iterations = 100\n",
    "\n",
    "w0_gd, w1_gd, cost = gradient_descent(df['X'], df['Y'], w0_start, w1_start, learning_rate, num_iterations)\n",
    "\n",
    "# Print optimized parameters\n",
    "print ('w0 = :', w0_gd)\n",
    "print ('w1 = :', w1_gd)\n",
    "\n",
    "# Print error with optimized parameters\n",
    "print ('Q = :', compute_cost(w0_gd, w1_gd, df['X'], df['Y']))"
   ]
  },
  {
   "cell_type": "code",
   "execution_count": 28,
   "metadata": {},
   "outputs": [
    {
     "data": {
      "image/png": "[encoded data removed]",
      "text/plain": [
       "<Figure size 432x288 with 1 Axes>"
      ]
     },
     "metadata": {
      "needs_background": "light"
     },
     "output_type": "display_data"
    }
   ],
   "source": [
    "plt.plot(cost)\n",
    "plt.xlabel('No. of iterations')\n",
    "plt.ylabel('Cost')\n",
    "plt.title('Cost per iteration')\n",
    "plt.grid(True)\n",
    "plt.show()"
   ]
  },
  {
   "cell_type": "code",
   "execution_count": 29,
   "metadata": {},
   "outputs": [
    {
     "data": {
      "text/plain": [
       "[<matplotlib.lines.Line2D at 0x17086057220>]"
      ]
     },
     "execution_count": 29,
     "metadata": {},
     "output_type": "execute_result"
    },
    {
     "data": {
      "image/png": "[encoded data removed]",
      "text/plain": [
       "<Figure size 1008x576 with 1 Axes>"
      ]
     },
     "metadata": {
      "needs_background": "light"
     },
     "output_type": "display_data"
    }
   ],
   "source": [
    "plot_data()\n",
    "\n",
    "plt.grid(True)\n",
    "plot_line(w0_gd, w1_gd)\n",
    "plt.plot(x_mean, y_mean, 'ro')"
   ]
  },
  {
   "cell_type": "markdown",
   "metadata": {},
   "source": [
    "### Сравним все результаты"
   ]
  },
  {
   "cell_type": "code",
   "execution_count": 30,
   "metadata": {},
   "outputs": [
    {
     "name": "stdout",
     "output_type": "stream",
     "text": [
      "MNK:  7.991020982269674 1.3224310227553733\n",
      "Statistics:  7.991020982270285 1.3224310227553608\n",
      "Gradiend descent:  0.029493615447130316 1.4700028426067162\n"
     ]
    }
   ],
   "source": [
    "print(\"MNK: \", w0_mnk, w1_mnk)\n",
    "print(\"Statistics: \", w0_statistics, w1_statistics)\n",
    "print(\"Gradiend descent: \", w0_gd, w1_gd)"
   ]
  },
  {
   "cell_type": "code",
   "execution_count": 63,
   "metadata": {},
   "outputs": [
    {
     "data": {
      "text/plain": [
       "[<matplotlib.lines.Line2D at 0x234be748c40>]"
      ]
     },
     "execution_count": 63,
     "metadata": {},
     "output_type": "execute_result"
    },
    {
     "data": {
      "image/png": "[encoded data removed]",
      "text/plain": [
       "<Figure size 1008x576 with 1 Axes>"
      ]
     },
     "metadata": {
      "needs_background": "light"
     },
     "output_type": "display_data"
    }
   ],
   "source": [
    "plot_data()\n",
    "\n",
    "plt.grid(True)\n",
    "plot_line(w0_mnk, w1_mnk)\n",
    "plot_line(w0_statistics, w1_statistics, 'g')\n",
    "plot_line(w0_gd, w1_gd, 'c')\n",
    "\n",
    "plt.plot(x_mean, y_mean, 'ro')"
   ]
  },
  {
   "cell_type": "code",
   "execution_count": null,
   "metadata": {},
   "outputs": [],
   "source": []
  }
 ],
 "metadata": {
  "kernelspec": {
   "display_name": "Python 3",
   "language": "python",
   "name": "python3"
  },
  "language_info": {
   "codemirror_mode": {
    "name": "ipython",
    "version": 3
   },
   "file_extension": ".py",
   "mimetype": "text/x-python",
   "name": "python",
   "nbconvert_exporter": "python",
   "pygments_lexer": "ipython3",
   "version": "3.8.5"
  }
 },
 "nbformat": 4,
 "nbformat_minor": 4
}
